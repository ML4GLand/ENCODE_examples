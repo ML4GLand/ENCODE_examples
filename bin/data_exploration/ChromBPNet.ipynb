{
 "cells": [
  {
   "cell_type": "code",
   "execution_count": 2,
   "id": "61975460-74d1-49f9-aa9e-b741d2ff9dac",
   "metadata": {
    "execution": {
     "iopub.execute_input": "2023-12-30T20:02:33.677773Z",
     "iopub.status.busy": "2023-12-30T20:02:33.677583Z",
     "iopub.status.idle": "2023-12-30T20:02:33.680032Z",
     "shell.execute_reply": "2023-12-30T20:02:33.679768Z",
     "shell.execute_reply.started": "2023-12-30T20:02:33.677752Z"
    },
    "tags": []
   },
   "outputs": [],
   "source": [
    "data_dir = \"/cellar/users/aklie/data/datasets/ENCODE_ATAC-seq/processed/2023_12_30\""
   ]
  },
  {
   "cell_type": "markdown",
   "id": "6f5399ce-7eb7-41f8-a1ff-8d1f3d639d52",
   "metadata": {},
   "source": [
    "# Create bigWig from bam\n",
    "USe chrombpnet to apply the proper shift"
   ]
  },
  {
   "cell_type": "code",
   "execution_count": 10,
   "id": "95c0acac-9cfb-4cf3-a314-f727e0f76a77",
   "metadata": {
    "execution": {
     "iopub.execute_input": "2023-12-30T20:10:47.966319Z",
     "iopub.status.busy": "2023-12-30T20:10:47.966141Z",
     "iopub.status.idle": "2023-12-30T20:10:48.405394Z",
     "shell.execute_reply": "2023-12-30T20:10:48.405014Z",
     "shell.execute_reply.started": "2023-12-30T20:10:47.966300Z"
    },
    "tags": []
   },
   "outputs": [
    {
     "name": "stdout",
     "output_type": "stream",
     "text": [
      "python /cellar/users/aklie/opt/chrombpnet/chrombpnet/helpers/preprocessing/reads_to_bigwig.py -ibam ENCFF717IQY.bam -g /cellar/users/aklie/data/ref/genomes/hg38/GCA_000001405.15_GRCh38_no_alt_analysis_set.fna -c /cellar/users/aklie/data/ref/genomes/hg38/GRCh38_EBV.chrom.sizes -o ./ -d ATAC\n"
     ]
    }
   ],
   "source": [
    "%%bash -s \"$data_dir\"\n",
    "#source activate chrombpnet\n",
    "script_path=/cellar/users/aklie/opt/chrombpnet/chrombpnet/helpers/preprocessing/reads_to_bigwig.py\n",
    "chrom_sizes=/cellar/users/aklie/data/ref/genomes/hg38/GRCh38_EBV.chrom.sizes\n",
    "genome=/cellar/users/aklie/data/ref/genomes/hg38/GCA_000001405.15_GRCh38_no_alt_analysis_set.fna\n",
    "\n",
    "# Run command\n",
    "cd $1\n",
    "bam_file=ENCFF717IQY.bam\n",
    "cmd=\"python $script_path \\\n",
    "-ibam $bam_file \\\n",
    "-g $genome \\\n",
    "-c $chrom_sizes \\\n",
    "-o ./ \\\n",
    "-d ATAC\"\n",
    "echo $cmd"
   ]
  },
  {
   "cell_type": "markdown",
   "id": "67552d6d-5d6b-4122-b112-3fe01e5a7c8c",
   "metadata": {},
   "source": [
    "# Create nonpeaks "
   ]
  },
  {
   "cell_type": "code",
   "execution_count": 16,
   "id": "030b6bc4-f2a1-489e-912f-ee33b986f13b",
   "metadata": {
    "execution": {
     "iopub.execute_input": "2023-12-30T20:51:20.950154Z",
     "iopub.status.busy": "2023-12-30T20:51:20.949941Z",
     "iopub.status.idle": "2023-12-30T20:51:21.405648Z",
     "shell.execute_reply": "2023-12-30T20:51:21.405342Z",
     "shell.execute_reply.started": "2023-12-30T20:51:20.950134Z"
    },
    "tags": []
   },
   "outputs": [
    {
     "name": "stdout",
     "output_type": "stream",
     "text": [
      "bpnet negatives -i ENCFF766BZE.bed -f /cellar/users/aklie/data/ref/genomes/hg38/GCA_000001405.15_GRCh38_no_alt_analysis_set.fna -o matched_loci.bed -l 0.02 -w 2114 -v\n"
     ]
    }
   ],
   "source": [
    "%%bash\n",
    "#source activate ml4gland\n",
    "genome=/cellar/users/aklie/data/ref/genomes/hg38/GCA_000001405.15_GRCh38_no_alt_analysis_set.fna\n",
    "cmd=\"bpnet negatives \\\n",
    "-i ENCFF766BZE.bed \\\n",
    "-f $genome \\\n",
    "-b _unstranded.bw \\\n",
    "-o matched_loci.bed \\\n",
    "-l 0.02 \\\n",
    "-w 2114 \\\n",
    "-v\"\n",
    "echo $cmd"
   ]
  },
  {
   "cell_type": "code",
   "execution_count": null,
   "id": "0a8f422c-2bd6-4657-95d2-974f2ed189d6",
   "metadata": {},
   "outputs": [],
   "source": [
    "genomewide_gc_hg38_stride_1000_inputlen_2114.bed"
   ]
  },
  {
   "cell_type": "code",
   "execution_count": 14,
   "id": "4e3ecebb-e0b4-4891-857e-154e7ab4716b",
   "metadata": {
    "execution": {
     "iopub.execute_input": "2023-12-30T20:47:10.110227Z",
     "iopub.status.busy": "2023-12-30T20:47:10.110029Z",
     "iopub.status.idle": "2023-12-30T20:47:10.488745Z",
     "shell.execute_reply": "2023-12-30T20:47:10.488422Z",
     "shell.execute_reply.started": "2023-12-30T20:47:10.110205Z"
    },
    "tags": []
   },
   "outputs": [
    {
     "name": "stdout",
     "output_type": "stream",
     "text": [
      "bash /cellar/users/aklie/opt/chrombpnet/chrombpnet/helpers/make_gc_matched_negatives/make_gc_matched_negatives.sh ENCFF766BZE.bed /cellar/users/aklie/data/ref/blacklists/hg38/ENCFF356LFX.bed 2114 . /cellar/users/aklie/data/ref/genomes/hg38/GCA_000001405.15_GRCh38_no_alt_analysis_set.fna /cellar/users/aklie/data/ref/genomes/hg38/genomewide_gc_hg38_stride_1000_inputlen_2114.bed /cellar/users/aklie/data/ref/genomes/hg38/splits/fold_0.json /cellar/users/aklie/data/ref/genomes/hg38/GRCh38_EBV.chrom.sizes\n"
     ]
    }
   ],
   "source": [
    "%%bash -s \"$data_dir\"\n",
    "script_path=/cellar/users/aklie/opt/chrombpnet/chrombpnet/helpers/make_gc_matched_negatives/make_gc_matched_negatives.sh\n",
    "cmd=\"bash $script_path \\\n",
    "ENCFF766BZE.bed \\\n",
    "/cellar/users/aklie/data/ref/blacklists/hg38/ENCFF356LFX.bed \\\n",
    "2114 \\\n",
    ". \\\n",
    "/cellar/users/aklie/data/ref/genomes/hg38/GCA_000001405.15_GRCh38_no_alt_analysis_set.fna \\\n",
    "/cellar/users/aklie/data/ref/genomes/hg38/genomewide_gc_hg38_stride_1000_inputlen_2114.bed \\\n",
    "/cellar/users/aklie/data/ref/genomes/hg38/splits/fold_0.json \\\n",
    "/cellar/users/aklie/data/ref/genomes/hg38/GRCh38_EBV.chrom.sizes\"\n",
    "echo $cmd"
   ]
  },
  {
   "cell_type": "code",
   "execution_count": null,
   "id": "6ecc7ecd-6aac-4a2a-89a2-3aa88eefad5e",
   "metadata": {},
   "outputs": [],
   "source": []
  },
  {
   "cell_type": "code",
   "execution_count": 11,
   "id": "3addad0c-d893-4f2f-a956-3fd0eebeb75d",
   "metadata": {
    "execution": {
     "iopub.execute_input": "2023-12-30T20:37:58.880172Z",
     "iopub.status.busy": "2023-12-30T20:37:58.879791Z",
     "iopub.status.idle": "2023-12-30T20:37:59.259271Z",
     "shell.execute_reply": "2023-12-30T20:37:59.258975Z",
     "shell.execute_reply.started": "2023-12-30T20:37:58.880148Z"
    }
   },
   "outputs": [
    {
     "name": "stdout",
     "output_type": "stream",
     "text": [
      "python /cellar/users/aklie/opt/chrombpnet/chrombpnet/helpers/make_gc_matched_negatives/get_genomewide_gc_buckets/get_genomewide_gc_bins.py -g GCA_000001405.15_GRCh38_no_alt_analysis_set.fna -o genomewide_gc_hg38_stride_1000_inputlen_2114 -f 2114 -s 1000\n"
     ]
    }
   ],
   "source": [
    "%%bash\n",
    "\n",
    "# Get genome wide bins\n",
    "script_path=/cellar/users/aklie/opt/chrombpnet/chrombpnet/helpers/make_gc_matched_negatives/get_genomewide_gc_buckets/get_genomewide_gc_bins.py\n",
    "cd /cellar/users/aklie/data/ref/genomes/hg38/\n",
    "\n",
    "cmd=\"python $script_path \\\n",
    "-g GCA_000001405.15_GRCh38_no_alt_analysis_set.fna \\\n",
    "-o genomewide_gc_hg38_stride_1000_inputlen_2114 \\\n",
    "-f 2114 \\\n",
    "-s 1000\"\n",
    "echo $cmd"
   ]
  }
 ],
 "metadata": {
  "kernelspec": {
   "display_name": "Python 3.7 get_data",
   "language": "python",
   "name": "get_data"
  },
  "language_info": {
   "codemirror_mode": {
    "name": "ipython",
    "version": 3
   },
   "file_extension": ".py",
   "mimetype": "text/x-python",
   "name": "python",
   "nbconvert_exporter": "python",
   "pygments_lexer": "ipython3",
   "version": "3.7.12"
  }
 },
 "nbformat": 4,
 "nbformat_minor": 5
}
