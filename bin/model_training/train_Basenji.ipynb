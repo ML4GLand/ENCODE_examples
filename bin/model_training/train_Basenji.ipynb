{
 "cells": [
  {
   "cell_type": "code",
   "execution_count": 1,
   "metadata": {},
   "outputs": [
    {
     "name": "stderr",
     "output_type": "stream",
     "text": [
      "OMP: Info #276: omp_set_nested routine deprecated, please use omp_set_max_active_levels instead.\n"
     ]
    }
   ],
   "source": [
    "# Imports\n",
    "import sys\n",
    "import json\n",
    "\n",
    "import torchinfo\n",
    "import torch\n",
    "import torch.nn as nn\n",
    "\n",
    "import seqpro as sp\n",
    "import seqdata as sd\n",
    "\n",
    "# Import the code for loading the PyTorch model\n",
    "sys.path.append('/cellar/users/aklie/opt/ml4gland/basenji2-pytorch')\n",
    "from basenji2_pytorch import Basenji2"
   ]
  },
  {
   "attachments": {},
   "cell_type": "markdown",
   "metadata": {},
   "source": [
    "# Model"
   ]
  },
  {
   "cell_type": "code",
   "execution_count": 2,
   "metadata": {},
   "outputs": [
    {
     "data": {
      "text/plain": [
       "===================================================================================================================\n",
       "Layer (type:depth-idx)                                            Output Shape              Param #\n",
       "===================================================================================================================\n",
       "Basenji2                                                          [1, 16, 1]                --\n",
       "├─Sequential: 1-1                                                 [1, 16, 1]                --\n",
       "│    └─Sequential: 2-1                                            [1, 1536, 16]             --\n",
       "│    │    └─BasenjiConvBlock: 3-1                                 [1, 288, 1024]            --\n",
       "│    │    │    └─Sequential: 4-1                                  [1, 288, 1024]            --\n",
       "│    │    │    │    └─GELU: 5-1                                   [1, 4, 2048]              --\n",
       "│    │    │    │    └─Conv1d: 5-2                                 [1, 288, 2048]            17,280\n",
       "│    │    │    │    └─BatchNorm1d: 5-3                            [1, 288, 2048]            576\n",
       "│    │    │    │    └─KerasMaxPool1d: 5-4                         [1, 288, 1024]            --\n",
       "│    │    └─BasenjiConvTower: 3-2                                 [1, 768, 16]              --\n",
       "│    │    │    └─Sequential: 4-2                                  [1, 768, 16]              --\n",
       "│    │    │    │    └─BasenjiConvBlock: 5-5                       [1, 339, 512]             488,838\n",
       "│    │    │    │    └─BasenjiConvBlock: 5-6                       [1, 399, 256]             677,103\n",
       "│    │    │    │    └─BasenjiConvBlock: 5-7                       [1, 470, 128]             938,590\n",
       "│    │    │    │    └─BasenjiConvBlock: 5-8                       [1, 554, 64]              1,303,008\n",
       "│    │    │    │    └─BasenjiConvBlock: 5-9                       [1, 652, 32]              1,807,344\n",
       "│    │    │    │    └─BasenjiConvBlock: 5-10                      [1, 768, 16]              2,505,216\n",
       "│    │    └─BasenjiDilatedResidual: 3-3                           [1, 768, 16]              --\n",
       "│    │    │    └─Sequential: 4-3                                  [1, 768, 16]              --\n",
       "│    │    │    │    └─Residual: 5-11                              [1, 768, 16]              1,181,952\n",
       "│    │    │    │    └─Residual: 5-12                              [1, 768, 16]              1,181,952\n",
       "│    │    │    │    └─Residual: 5-13                              [1, 768, 16]              1,181,952\n",
       "│    │    │    │    └─Residual: 5-14                              [1, 768, 16]              1,181,952\n",
       "│    │    │    │    └─Residual: 5-15                              [1, 768, 16]              1,181,952\n",
       "│    │    │    │    └─Residual: 5-16                              [1, 768, 16]              1,181,952\n",
       "│    │    │    │    └─Residual: 5-17                              [1, 768, 16]              1,181,952\n",
       "│    │    │    │    └─Residual: 5-18                              [1, 768, 16]              1,181,952\n",
       "│    │    │    │    └─Residual: 5-19                              [1, 768, 16]              1,181,952\n",
       "│    │    │    │    └─Residual: 5-20                              [1, 768, 16]              1,181,952\n",
       "│    │    │    │    └─Residual: 5-21                              [1, 768, 16]              1,181,952\n",
       "│    │    └─BasenjiConvBlock: 3-4                                 [1, 1536, 16]             --\n",
       "│    │    │    └─Sequential: 4-4                                  [1, 1536, 16]             --\n",
       "│    │    │    │    └─GELU: 5-22                                  [1, 768, 16]              --\n",
       "│    │    │    │    └─Conv1d: 5-23                                [1, 1536, 16]             1,179,648\n",
       "│    │    │    │    └─BatchNorm1d: 5-24                           [1, 1536, 16]             3,072\n",
       "│    │    │    │    └─Dropout: 5-25                               [1, 1536, 16]             --\n",
       "│    │    └─GELU: 3-5                                             [1, 1536, 16]             --\n",
       "│    └─Sequential: 2-2                                            [1, 16, 1]                --\n",
       "│    │    └─BasenjiFinal: 3-6                                     [1, 16, 1]                --\n",
       "│    │    │    └─Sequential: 4-5                                  [1, 16, 1]                --\n",
       "│    │    │    │    └─Rearrange: 5-26                             [1, 16, 1536]             --\n",
       "│    │    │    │    └─Linear: 5-27                                [1, 16, 1]                1,537\n",
       "│    │    │    │    └─BasenjiSoftplus: 5-28                       [1, 16, 1]                --\n",
       "===================================================================================================================\n",
       "Total params: 21,923,684\n",
       "Trainable params: 21,923,684\n",
       "Non-trainable params: 0\n",
       "Total mult-adds (G): 1.71\n",
       "===================================================================================================================\n",
       "Input size (MB): 0.03\n",
       "Forward/backward pass size (MB): 26.02\n",
       "Params size (MB): 87.69\n",
       "Estimated Total Size (MB): 113.75\n",
       "==================================================================================================================="
      ]
     },
     "execution_count": 2,
     "metadata": {},
     "output_type": "execute_result"
    }
   ],
   "source": [
    "# Params for model\n",
    "params = \"/cellar/users/aklie/data/datasets/ENCODE_examples/bin/model_training/2048bp-input_to_32bp-bins_params.json\"\n",
    "\n",
    "# Open up the model config file\n",
    "with open(params) as params_open:\n",
    "    params_load = json.load(params_open)\n",
    "    model_params = params_load['model']\n",
    "    train_params = params_load['train']\n",
    "\n",
    "# Create the model\n",
    "basenji2 = Basenji2(model_params)\n",
    "\n",
    "# Summarize\n",
    "torchinfo.summary(basenji2, input_size=(1, 4, 2048), depth=5)"
   ]
  },
  {
   "attachments": {},
   "cell_type": "markdown",
   "metadata": {},
   "source": [
    "# Data"
   ]
  },
  {
   "cell_type": "code",
   "execution_count": 3,
   "metadata": {},
   "outputs": [
    {
     "data": {
      "text/plain": [
       "(torch.Size([95590, 4, 2048]), torch.Size([95590, 16]))"
      ]
     },
     "execution_count": 3,
     "metadata": {},
     "output_type": "execute_result"
    }
   ],
   "source": [
    "# Load data\n",
    "sdata = sd.open_zarr(\"/cellar/users/aklie/data/datasets/ENCODE_examples/processed/2023_12_30/ATAC-seq/GM21381/GM21381.zarr\").load()\n",
    "\n",
    "# One-hot encode the sequence and make it a PyTorch tensor\n",
    "ohe_seqs = torch.tensor(sp.ohe(sdata[\"seq\"].values, alphabet=sp.alphabets.DNA), dtype=torch.float32).permute(0, 2, 1)\n",
    "\n",
    "# Bin the coverage\n",
    "cov = sdata[\"cov\"].values\n",
    "bin_cov = sp.bin_coverage(cov, bin_width=128, length_axis=2)\n",
    "\n",
    "# Get targets\n",
    "targets = torch.tensor(bin_cov, dtype=torch.float32).permute(0, 2, 1).squeeze(-1)\n",
    "\n",
    "# Print shapes\n",
    "ohe_seqs.shape, targets.shape"
   ]
  },
  {
   "cell_type": "code",
   "execution_count": 4,
   "metadata": {},
   "outputs": [],
   "source": [
    "# Create the data loader, ohe_seqs are inputs, targets are outputs\n",
    "batch_size = 128\n",
    "data_loader = torch.utils.data.DataLoader(\n",
    "    torch.utils.data.TensorDataset(ohe_seqs, targets),\n",
    "    batch_size=batch_size,\n",
    "    shuffle=True,\n",
    ")"
   ]
  },
  {
   "cell_type": "code",
   "execution_count": 5,
   "metadata": {},
   "outputs": [
    {
     "data": {
      "text/plain": [
       "(torch.Size([128, 4, 2048]), torch.Size([128, 16]))"
      ]
     },
     "execution_count": 5,
     "metadata": {},
     "output_type": "execute_result"
    }
   ],
   "source": [
    "batch = next(iter(data_loader))\n",
    "batch[0].shape, batch[1].shape"
   ]
  },
  {
   "attachments": {},
   "cell_type": "markdown",
   "metadata": {},
   "source": [
    "# Test predictions"
   ]
  },
  {
   "cell_type": "code",
   "execution_count": 27,
   "metadata": {},
   "outputs": [],
   "source": [
    "# Loss function\n",
    "loss_fn = nn.PoissonNLLLoss(log_input=False, full=True)"
   ]
  },
  {
   "cell_type": "code",
   "execution_count": 7,
   "metadata": {},
   "outputs": [
    {
     "data": {
      "text/plain": [
       "torch.Size([128, 16])"
      ]
     },
     "execution_count": 7,
     "metadata": {},
     "output_type": "execute_result"
    }
   ],
   "source": [
    "preds = basenji2(batch[0].cuda()).squeeze(-1)\n",
    "preds.shape"
   ]
  },
  {
   "cell_type": "code",
   "execution_count": 29,
   "metadata": {},
   "outputs": [
    {
     "data": {
      "text/plain": [
       "tensor(150.8730, device='cuda:0', grad_fn=<MeanBackward0>)"
      ]
     },
     "execution_count": 29,
     "metadata": {},
     "output_type": "execute_result"
    }
   ],
   "source": [
    "loss_fn(preds, targets[128:256].to('cuda'))"
   ]
  },
  {
   "cell_type": "code",
   "execution_count": 10,
   "metadata": {},
   "outputs": [
    {
     "name": "stdout",
     "output_type": "stream",
     "text": [
      "0 19.418781280517578\n",
      "10 14.905661582946777\n",
      "20 17.45621109008789\n",
      "30 15.810864448547363\n",
      "40 19.263273239135742\n",
      "50 17.63465690612793\n",
      "60 17.779325485229492\n",
      "70 15.828573226928711\n",
      "80 13.9569730758667\n",
      "90 19.07834815979004\n",
      "100 18.03013801574707\n"
     ]
    }
   ],
   "source": [
    "# For each batch, compute the loss and print every 10 batches\n",
    "for i, (x, y) in enumerate(data_loader):\n",
    "    x = x.cuda()\n",
    "    y = y.cuda()\n",
    "    preds = basenji2(x).squeeze(-1)\n",
    "    loss = loss_fn(preds, y)\n",
    "    if i % 10 == 0:\n",
    "        print(i, loss.item())\n",
    "    if i == 100:\n",
    "        break"
   ]
  },
  {
   "cell_type": "code",
   "execution_count": 11,
   "metadata": {},
   "outputs": [],
   "source": [
    "import torch.optim as optim\n",
    "from tqdm import tqdm"
   ]
  },
  {
   "cell_type": "code",
   "execution_count": 30,
   "metadata": {},
   "outputs": [
    {
     "name": "stderr",
     "output_type": "stream",
     "text": [
      "  0%|          | 0/10 [00:00<?, ?it/s]"
     ]
    },
    {
     "name": "stderr",
     "output_type": "stream",
     "text": [
      "Epoch 2 Loss 9.3264:  20%|██        | 2/10 [06:58<27:53, 209.25s/it] \n"
     ]
    },
    {
     "ename": "KeyboardInterrupt",
     "evalue": "",
     "output_type": "error",
     "traceback": [
      "\u001b[0;31m---------------------------------------------------------------------------\u001b[0m",
      "\u001b[0;31mKeyboardInterrupt\u001b[0m                         Traceback (most recent call last)",
      "Cell \u001b[0;32mIn[30], line 38\u001b[0m\n\u001b[1;32m     35\u001b[0m optimizer\u001b[39m.\u001b[39mstep()\n\u001b[1;32m     37\u001b[0m \u001b[39m# Update the progress bar\u001b[39;00m\n\u001b[0;32m---> 38\u001b[0m pbar\u001b[39m.\u001b[39mset_description(\u001b[39mf\u001b[39m\u001b[39m\"\u001b[39m\u001b[39mEpoch \u001b[39m\u001b[39m{\u001b[39;00mepoch\u001b[39m}\u001b[39;00m\u001b[39m Loss \u001b[39m\u001b[39m{\u001b[39;00mloss\u001b[39m.\u001b[39mitem()\u001b[39m:\u001b[39;00m\u001b[39m.4f\u001b[39m\u001b[39m}\u001b[39;00m\u001b[39m\"\u001b[39m)\n",
      "\u001b[0;31mKeyboardInterrupt\u001b[0m: "
     ]
    }
   ],
   "source": [
    "# Training loop\n",
    "\n",
    "# Move the model to the GPU\n",
    "basenji2.to('cuda').train()\n",
    "\n",
    "# Create the optimizer\n",
    "optimizer = optim.Adam(basenji2.parameters(), lr=train_params['learning_rate'])\n",
    "\n",
    "# Create the progress bar\n",
    "pbar = tqdm(range(10))\n",
    "\n",
    "# Loop over epochs\n",
    "for epoch in pbar:\n",
    "\n",
    "    # Loop over batches\n",
    "    for i, (x, y) in enumerate(data_loader):\n",
    "\n",
    "        # Move to GPU\n",
    "        x = x.cuda()\n",
    "        y = y.cuda()\n",
    "\n",
    "        # Zero the gradients\n",
    "        optimizer.zero_grad()\n",
    "\n",
    "        # Forward pass\n",
    "        preds = basenji2(x).squeeze(-1)\n",
    "\n",
    "        # Compute the loss\n",
    "        loss = loss_fn(preds, y)\n",
    "\n",
    "        # Backward pass\n",
    "        loss.backward()\n",
    "\n",
    "        # Update the weights\n",
    "        optimizer.step()\n",
    "\n",
    "        # Update the progress bar\n",
    "        pbar.set_description(f\"Epoch {epoch} Loss {loss.item():.4f}\")"
   ]
  },
  {
   "cell_type": "code",
   "execution_count": 31,
   "metadata": {},
   "outputs": [
    {
     "data": {
      "text/plain": [
       "475"
      ]
     },
     "execution_count": 31,
     "metadata": {},
     "output_type": "execute_result"
    }
   ],
   "source": [
    "# Clear cache\n",
    "torch.cuda.empty_cache()\n",
    "import gc\n",
    "gc.collect()"
   ]
  },
  {
   "cell_type": "code",
   "execution_count": 32,
   "metadata": {},
   "outputs": [
    {
     "data": {
      "text/plain": [
       "Basenji2(\n",
       "  (model): Sequential(\n",
       "    (trunk): Sequential(\n",
       "      (0): BasenjiConvBlock(\n",
       "        (block): Sequential(\n",
       "          (0): GELU(approximate='none')\n",
       "          (1): Conv1d(4, 288, kernel_size=(15,), stride=(1,), padding=same, bias=False)\n",
       "          (2): BatchNorm1d(288, eps=0.001, momentum=0.09999999999999998, affine=True, track_running_stats=True)\n",
       "          (3): KerasMaxPool1d(\n",
       "            (pool): MaxPool1d(kernel_size=2, stride=2, padding=0, dilation=1, ceil_mode=False)\n",
       "          )\n",
       "        )\n",
       "      )\n",
       "      (1): BasenjiConvTower(\n",
       "        (tower): Sequential(\n",
       "          (0): BasenjiConvBlock(\n",
       "            (block): Sequential(\n",
       "              (0): GELU(approximate='none')\n",
       "              (1): Conv1d(288, 339, kernel_size=(5,), stride=(1,), padding=same, bias=False)\n",
       "              (2): BatchNorm1d(339, eps=0.001, momentum=0.09999999999999998, affine=True, track_running_stats=True)\n",
       "              (3): KerasMaxPool1d(\n",
       "                (pool): MaxPool1d(kernel_size=2, stride=2, padding=0, dilation=1, ceil_mode=False)\n",
       "              )\n",
       "            )\n",
       "          )\n",
       "          (1): BasenjiConvBlock(\n",
       "            (block): Sequential(\n",
       "              (0): GELU(approximate='none')\n",
       "              (1): Conv1d(339, 399, kernel_size=(5,), stride=(1,), padding=same, bias=False)\n",
       "              (2): BatchNorm1d(399, eps=0.001, momentum=0.09999999999999998, affine=True, track_running_stats=True)\n",
       "              (3): KerasMaxPool1d(\n",
       "                (pool): MaxPool1d(kernel_size=2, stride=2, padding=0, dilation=1, ceil_mode=False)\n",
       "              )\n",
       "            )\n",
       "          )\n",
       "          (2): BasenjiConvBlock(\n",
       "            (block): Sequential(\n",
       "              (0): GELU(approximate='none')\n",
       "              (1): Conv1d(399, 470, kernel_size=(5,), stride=(1,), padding=same, bias=False)\n",
       "              (2): BatchNorm1d(470, eps=0.001, momentum=0.09999999999999998, affine=True, track_running_stats=True)\n",
       "              (3): KerasMaxPool1d(\n",
       "                (pool): MaxPool1d(kernel_size=2, stride=2, padding=0, dilation=1, ceil_mode=False)\n",
       "              )\n",
       "            )\n",
       "          )\n",
       "          (3): BasenjiConvBlock(\n",
       "            (block): Sequential(\n",
       "              (0): GELU(approximate='none')\n",
       "              (1): Conv1d(470, 554, kernel_size=(5,), stride=(1,), padding=same, bias=False)\n",
       "              (2): BatchNorm1d(554, eps=0.001, momentum=0.09999999999999998, affine=True, track_running_stats=True)\n",
       "              (3): KerasMaxPool1d(\n",
       "                (pool): MaxPool1d(kernel_size=2, stride=2, padding=0, dilation=1, ceil_mode=False)\n",
       "              )\n",
       "            )\n",
       "          )\n",
       "          (4): BasenjiConvBlock(\n",
       "            (block): Sequential(\n",
       "              (0): GELU(approximate='none')\n",
       "              (1): Conv1d(554, 652, kernel_size=(5,), stride=(1,), padding=same, bias=False)\n",
       "              (2): BatchNorm1d(652, eps=0.001, momentum=0.09999999999999998, affine=True, track_running_stats=True)\n",
       "              (3): KerasMaxPool1d(\n",
       "                (pool): MaxPool1d(kernel_size=2, stride=2, padding=0, dilation=1, ceil_mode=False)\n",
       "              )\n",
       "            )\n",
       "          )\n",
       "          (5): BasenjiConvBlock(\n",
       "            (block): Sequential(\n",
       "              (0): GELU(approximate='none')\n",
       "              (1): Conv1d(652, 768, kernel_size=(5,), stride=(1,), padding=same, bias=False)\n",
       "              (2): BatchNorm1d(768, eps=0.001, momentum=0.09999999999999998, affine=True, track_running_stats=True)\n",
       "              (3): KerasMaxPool1d(\n",
       "                (pool): MaxPool1d(kernel_size=2, stride=2, padding=0, dilation=1, ceil_mode=False)\n",
       "              )\n",
       "            )\n",
       "          )\n",
       "        )\n",
       "      )\n",
       "      (2): BasenjiDilatedResidual(\n",
       "        (block): Sequential(\n",
       "          (0): Residual(\n",
       "            (module): Sequential(\n",
       "              (0): BasenjiConvBlock(\n",
       "                (block): Sequential(\n",
       "                  (0): GELU(approximate='none')\n",
       "                  (1): Conv1d(768, 384, kernel_size=(3,), stride=(1,), padding=same, bias=False)\n",
       "                  (2): BatchNorm1d(384, eps=0.001, momentum=0.09999999999999998, affine=True, track_running_stats=True)\n",
       "                )\n",
       "              )\n",
       "              (1): BasenjiConvBlock(\n",
       "                (block): Sequential(\n",
       "                  (0): GELU(approximate='none')\n",
       "                  (1): Conv1d(384, 768, kernel_size=(1,), stride=(1,), padding=same, bias=False)\n",
       "                  (2): BatchNorm1d(768, eps=0.001, momentum=0.09999999999999998, affine=True, track_running_stats=True)\n",
       "                  (3): Dropout(p=0.3, inplace=False)\n",
       "                )\n",
       "              )\n",
       "            )\n",
       "          )\n",
       "          (1): Residual(\n",
       "            (module): Sequential(\n",
       "              (0): BasenjiConvBlock(\n",
       "                (block): Sequential(\n",
       "                  (0): GELU(approximate='none')\n",
       "                  (1): Conv1d(768, 384, kernel_size=(3,), stride=(1,), padding=same, dilation=(2,), bias=False)\n",
       "                  (2): BatchNorm1d(384, eps=0.001, momentum=0.09999999999999998, affine=True, track_running_stats=True)\n",
       "                )\n",
       "              )\n",
       "              (1): BasenjiConvBlock(\n",
       "                (block): Sequential(\n",
       "                  (0): GELU(approximate='none')\n",
       "                  (1): Conv1d(384, 768, kernel_size=(1,), stride=(1,), padding=same, bias=False)\n",
       "                  (2): BatchNorm1d(768, eps=0.001, momentum=0.09999999999999998, affine=True, track_running_stats=True)\n",
       "                  (3): Dropout(p=0.3, inplace=False)\n",
       "                )\n",
       "              )\n",
       "            )\n",
       "          )\n",
       "          (2): Residual(\n",
       "            (module): Sequential(\n",
       "              (0): BasenjiConvBlock(\n",
       "                (block): Sequential(\n",
       "                  (0): GELU(approximate='none')\n",
       "                  (1): Conv1d(768, 384, kernel_size=(3,), stride=(1,), padding=same, dilation=(3,), bias=False)\n",
       "                  (2): BatchNorm1d(384, eps=0.001, momentum=0.09999999999999998, affine=True, track_running_stats=True)\n",
       "                )\n",
       "              )\n",
       "              (1): BasenjiConvBlock(\n",
       "                (block): Sequential(\n",
       "                  (0): GELU(approximate='none')\n",
       "                  (1): Conv1d(384, 768, kernel_size=(1,), stride=(1,), padding=same, bias=False)\n",
       "                  (2): BatchNorm1d(768, eps=0.001, momentum=0.09999999999999998, affine=True, track_running_stats=True)\n",
       "                  (3): Dropout(p=0.3, inplace=False)\n",
       "                )\n",
       "              )\n",
       "            )\n",
       "          )\n",
       "          (3): Residual(\n",
       "            (module): Sequential(\n",
       "              (0): BasenjiConvBlock(\n",
       "                (block): Sequential(\n",
       "                  (0): GELU(approximate='none')\n",
       "                  (1): Conv1d(768, 384, kernel_size=(3,), stride=(1,), padding=same, dilation=(4,), bias=False)\n",
       "                  (2): BatchNorm1d(384, eps=0.001, momentum=0.09999999999999998, affine=True, track_running_stats=True)\n",
       "                )\n",
       "              )\n",
       "              (1): BasenjiConvBlock(\n",
       "                (block): Sequential(\n",
       "                  (0): GELU(approximate='none')\n",
       "                  (1): Conv1d(384, 768, kernel_size=(1,), stride=(1,), padding=same, bias=False)\n",
       "                  (2): BatchNorm1d(768, eps=0.001, momentum=0.09999999999999998, affine=True, track_running_stats=True)\n",
       "                  (3): Dropout(p=0.3, inplace=False)\n",
       "                )\n",
       "              )\n",
       "            )\n",
       "          )\n",
       "          (4): Residual(\n",
       "            (module): Sequential(\n",
       "              (0): BasenjiConvBlock(\n",
       "                (block): Sequential(\n",
       "                  (0): GELU(approximate='none')\n",
       "                  (1): Conv1d(768, 384, kernel_size=(3,), stride=(1,), padding=same, dilation=(6,), bias=False)\n",
       "                  (2): BatchNorm1d(384, eps=0.001, momentum=0.09999999999999998, affine=True, track_running_stats=True)\n",
       "                )\n",
       "              )\n",
       "              (1): BasenjiConvBlock(\n",
       "                (block): Sequential(\n",
       "                  (0): GELU(approximate='none')\n",
       "                  (1): Conv1d(384, 768, kernel_size=(1,), stride=(1,), padding=same, bias=False)\n",
       "                  (2): BatchNorm1d(768, eps=0.001, momentum=0.09999999999999998, affine=True, track_running_stats=True)\n",
       "                  (3): Dropout(p=0.3, inplace=False)\n",
       "                )\n",
       "              )\n",
       "            )\n",
       "          )\n",
       "          (5): Residual(\n",
       "            (module): Sequential(\n",
       "              (0): BasenjiConvBlock(\n",
       "                (block): Sequential(\n",
       "                  (0): GELU(approximate='none')\n",
       "                  (1): Conv1d(768, 384, kernel_size=(3,), stride=(1,), padding=same, dilation=(9,), bias=False)\n",
       "                  (2): BatchNorm1d(384, eps=0.001, momentum=0.09999999999999998, affine=True, track_running_stats=True)\n",
       "                )\n",
       "              )\n",
       "              (1): BasenjiConvBlock(\n",
       "                (block): Sequential(\n",
       "                  (0): GELU(approximate='none')\n",
       "                  (1): Conv1d(384, 768, kernel_size=(1,), stride=(1,), padding=same, bias=False)\n",
       "                  (2): BatchNorm1d(768, eps=0.001, momentum=0.09999999999999998, affine=True, track_running_stats=True)\n",
       "                  (3): Dropout(p=0.3, inplace=False)\n",
       "                )\n",
       "              )\n",
       "            )\n",
       "          )\n",
       "          (6): Residual(\n",
       "            (module): Sequential(\n",
       "              (0): BasenjiConvBlock(\n",
       "                (block): Sequential(\n",
       "                  (0): GELU(approximate='none')\n",
       "                  (1): Conv1d(768, 384, kernel_size=(3,), stride=(1,), padding=same, dilation=(14,), bias=False)\n",
       "                  (2): BatchNorm1d(384, eps=0.001, momentum=0.09999999999999998, affine=True, track_running_stats=True)\n",
       "                )\n",
       "              )\n",
       "              (1): BasenjiConvBlock(\n",
       "                (block): Sequential(\n",
       "                  (0): GELU(approximate='none')\n",
       "                  (1): Conv1d(384, 768, kernel_size=(1,), stride=(1,), padding=same, bias=False)\n",
       "                  (2): BatchNorm1d(768, eps=0.001, momentum=0.09999999999999998, affine=True, track_running_stats=True)\n",
       "                  (3): Dropout(p=0.3, inplace=False)\n",
       "                )\n",
       "              )\n",
       "            )\n",
       "          )\n",
       "          (7): Residual(\n",
       "            (module): Sequential(\n",
       "              (0): BasenjiConvBlock(\n",
       "                (block): Sequential(\n",
       "                  (0): GELU(approximate='none')\n",
       "                  (1): Conv1d(768, 384, kernel_size=(3,), stride=(1,), padding=same, dilation=(21,), bias=False)\n",
       "                  (2): BatchNorm1d(384, eps=0.001, momentum=0.09999999999999998, affine=True, track_running_stats=True)\n",
       "                )\n",
       "              )\n",
       "              (1): BasenjiConvBlock(\n",
       "                (block): Sequential(\n",
       "                  (0): GELU(approximate='none')\n",
       "                  (1): Conv1d(384, 768, kernel_size=(1,), stride=(1,), padding=same, bias=False)\n",
       "                  (2): BatchNorm1d(768, eps=0.001, momentum=0.09999999999999998, affine=True, track_running_stats=True)\n",
       "                  (3): Dropout(p=0.3, inplace=False)\n",
       "                )\n",
       "              )\n",
       "            )\n",
       "          )\n",
       "          (8): Residual(\n",
       "            (module): Sequential(\n",
       "              (0): BasenjiConvBlock(\n",
       "                (block): Sequential(\n",
       "                  (0): GELU(approximate='none')\n",
       "                  (1): Conv1d(768, 384, kernel_size=(3,), stride=(1,), padding=same, dilation=(32,), bias=False)\n",
       "                  (2): BatchNorm1d(384, eps=0.001, momentum=0.09999999999999998, affine=True, track_running_stats=True)\n",
       "                )\n",
       "              )\n",
       "              (1): BasenjiConvBlock(\n",
       "                (block): Sequential(\n",
       "                  (0): GELU(approximate='none')\n",
       "                  (1): Conv1d(384, 768, kernel_size=(1,), stride=(1,), padding=same, bias=False)\n",
       "                  (2): BatchNorm1d(768, eps=0.001, momentum=0.09999999999999998, affine=True, track_running_stats=True)\n",
       "                  (3): Dropout(p=0.3, inplace=False)\n",
       "                )\n",
       "              )\n",
       "            )\n",
       "          )\n",
       "          (9): Residual(\n",
       "            (module): Sequential(\n",
       "              (0): BasenjiConvBlock(\n",
       "                (block): Sequential(\n",
       "                  (0): GELU(approximate='none')\n",
       "                  (1): Conv1d(768, 384, kernel_size=(3,), stride=(1,), padding=same, dilation=(48,), bias=False)\n",
       "                  (2): BatchNorm1d(384, eps=0.001, momentum=0.09999999999999998, affine=True, track_running_stats=True)\n",
       "                )\n",
       "              )\n",
       "              (1): BasenjiConvBlock(\n",
       "                (block): Sequential(\n",
       "                  (0): GELU(approximate='none')\n",
       "                  (1): Conv1d(384, 768, kernel_size=(1,), stride=(1,), padding=same, bias=False)\n",
       "                  (2): BatchNorm1d(768, eps=0.001, momentum=0.09999999999999998, affine=True, track_running_stats=True)\n",
       "                  (3): Dropout(p=0.3, inplace=False)\n",
       "                )\n",
       "              )\n",
       "            )\n",
       "          )\n",
       "          (10): Residual(\n",
       "            (module): Sequential(\n",
       "              (0): BasenjiConvBlock(\n",
       "                (block): Sequential(\n",
       "                  (0): GELU(approximate='none')\n",
       "                  (1): Conv1d(768, 384, kernel_size=(3,), stride=(1,), padding=same, dilation=(72,), bias=False)\n",
       "                  (2): BatchNorm1d(384, eps=0.001, momentum=0.09999999999999998, affine=True, track_running_stats=True)\n",
       "                )\n",
       "              )\n",
       "              (1): BasenjiConvBlock(\n",
       "                (block): Sequential(\n",
       "                  (0): GELU(approximate='none')\n",
       "                  (1): Conv1d(384, 768, kernel_size=(1,), stride=(1,), padding=same, bias=False)\n",
       "                  (2): BatchNorm1d(768, eps=0.001, momentum=0.09999999999999998, affine=True, track_running_stats=True)\n",
       "                  (3): Dropout(p=0.3, inplace=False)\n",
       "                )\n",
       "              )\n",
       "            )\n",
       "          )\n",
       "        )\n",
       "      )\n",
       "      (3): BasenjiConvBlock(\n",
       "        (block): Sequential(\n",
       "          (0): GELU(approximate='none')\n",
       "          (1): Conv1d(768, 1536, kernel_size=(1,), stride=(1,), padding=same, bias=False)\n",
       "          (2): BatchNorm1d(1536, eps=0.001, momentum=0.09999999999999998, affine=True, track_running_stats=True)\n",
       "          (3): Dropout(p=0.05, inplace=False)\n",
       "        )\n",
       "      )\n",
       "      (4): GELU(approximate='none')\n",
       "    )\n",
       "    (head): Sequential(\n",
       "      (final): BasenjiFinal(\n",
       "        (block): Sequential(\n",
       "          (0): Rearrange('b c l -> b l c')\n",
       "          (1): Linear(in_features=1536, out_features=1, bias=True)\n",
       "          (2): BasenjiSoftplus()\n",
       "        )\n",
       "      )\n",
       "    )\n",
       "  )\n",
       ")"
      ]
     },
     "execution_count": 32,
     "metadata": {},
     "output_type": "execute_result"
    }
   ],
   "source": [
    "basenji2.eval()"
   ]
  },
  {
   "cell_type": "code",
   "execution_count": 33,
   "metadata": {},
   "outputs": [],
   "source": [
    "preds = basenji2(ohe_seqs[:128].cuda()).squeeze(-1)"
   ]
  },
  {
   "cell_type": "code",
   "execution_count": 34,
   "metadata": {},
   "outputs": [],
   "source": [
    "from scipy.stats import pearsonr"
   ]
  },
  {
   "cell_type": "code",
   "execution_count": 35,
   "metadata": {},
   "outputs": [
    {
     "data": {
      "text/plain": [
       "[0.7890441827261973,\n",
       " 0.9103718088256418,\n",
       " 0.9236318869397329,\n",
       " 0.8937350378757364,\n",
       " 0.9205722439326689,\n",
       " 0.8253128750049354,\n",
       " 0.5761652171582458,\n",
       " 0.885118626972784,\n",
       " 0.9196594435736818,\n",
       " 0.8638988420813307,\n",
       " 0.8244106261174616,\n",
       " 0.8555587317434261,\n",
       " 0.8369302904707853,\n",
       " 0.8226796944491319,\n",
       " 0.8663655035929545,\n",
       " 0.894080416629766,\n",
       " 0.7772023850619825,\n",
       " 0.8422807781334862,\n",
       " 0.883729168617497,\n",
       " 0.7427650716253482,\n",
       " 0.8770461919434874,\n",
       " 0.8276517501850453,\n",
       " 0.985560776420605,\n",
       " 0.8770461919434874,\n",
       " 0.8843834453505742,\n",
       " 0.8588979708979658,\n",
       " 0.904523523453655,\n",
       " 0.8338989293983197,\n",
       " 0.8100640958520783,\n",
       " 0.8584040568817994,\n",
       " 0.762375634785704,\n",
       " 0.8607236833307753,\n",
       " 0.8956220956479711,\n",
       " 0.9210445780036247,\n",
       " 0.9218433295882982,\n",
       " 0.7696751145117956,\n",
       " 0.8854582407407775,\n",
       " 0.8445935813808274,\n",
       " 0.8994886868766576,\n",
       " 0.9776956867194446,\n",
       " 0.9327238399286686,\n",
       " 0.9140259842713485,\n",
       " 0.8573944524933246,\n",
       " 0.8836523814411741,\n",
       " 0.8217436155285175,\n",
       " 0.8304922461175098,\n",
       " 0.9172537048775278,\n",
       " 0.870127807678154,\n",
       " 0.9292339223926412,\n",
       " 0.7965233322304253,\n",
       " 0.8749139601351719,\n",
       " 0.9376660258624971,\n",
       " 0.8356564516694518,\n",
       " 0.9620155000841811,\n",
       " 0.9828354783417381,\n",
       " 0.904244496915285,\n",
       " 0.9113139117054929,\n",
       " 0.9553621553008442,\n",
       " 0.8911457213711291,\n",
       " 0.850148516304647,\n",
       " 0.806554220538628,\n",
       " 0.8529853184121067,\n",
       " 0.8814944139613212,\n",
       " 0.9437313917333785,\n",
       " 0.7602739412482777,\n",
       " 0.6473017633744798,\n",
       " 0.7634263620476818,\n",
       " 0.8700674494143382,\n",
       " 0.9253767933678223,\n",
       " 0.8987590850162209,\n",
       " 0.8878322540083995,\n",
       " 0.7561962646736067,\n",
       " 0.8890945707959179,\n",
       " 0.9321968956315303,\n",
       " 0.8819031076845505,\n",
       " 0.8351976021929423,\n",
       " 0.975283180053494,\n",
       " 0.842790196516437,\n",
       " 0.9116431440053216,\n",
       " 0.7582407191559517,\n",
       " 0.8167761915633565,\n",
       " 0.7638426153493258,\n",
       " 0.8542906875929844,\n",
       " 0.8124216662301593,\n",
       " 0.9332337571518536,\n",
       " 0.8571536806246564,\n",
       " 0.7486510278678236,\n",
       " 0.8409554253846898,\n",
       " 0.9032518479294447,\n",
       " 0.9067147636944359,\n",
       " 0.8463865570603876,\n",
       " 0.8373188745439443,\n",
       " 0.8550279661320666,\n",
       " 0.9168937990701966,\n",
       " 0.8449845964644889,\n",
       " 0.9012379376101084,\n",
       " 0.7980357730025982,\n",
       " 0.8654591779338536,\n",
       " 0.8460637340163293,\n",
       " 0.7722016176188709,\n",
       " 0.9135423921033732,\n",
       " 0.8799976717462658,\n",
       " 0.8897948149623771,\n",
       " 0.8609100679902444,\n",
       " 0.8751019066615429,\n",
       " 0.7006161236826287,\n",
       " 0.7919362176704214,\n",
       " 0.8766956519777391,\n",
       " 0.8681339415061147,\n",
       " 0.8152485899577144,\n",
       " 0.8721053540822483,\n",
       " 0.9780216040391752,\n",
       " 0.6106466100910424,\n",
       " 0.8668231383802585,\n",
       " 0.8717583408459343,\n",
       " 0.8786633995538068,\n",
       " 0.8459947985221044,\n",
       " 0.9877002167619282,\n",
       " 0.9565921050108719,\n",
       " 0.7440849849134289,\n",
       " 0.926771775085936,\n",
       " 0.9111015711421762,\n",
       " 0.8729717477782879,\n",
       " 0.8208853644024462,\n",
       " 0.8988840754085237,\n",
       " 0.9013850844264613,\n",
       " 0.9361585347174817,\n",
       " 0.7235020446296043]"
      ]
     },
     "execution_count": 35,
     "metadata": {},
     "output_type": "execute_result"
    }
   ],
   "source": [
    "# Compute the Pearson correlation coefficient for each of the 128 examples individually\n",
    "pearsons = [pearsonr(preds[i].cpu().detach().numpy(), targets[i].cpu().detach().numpy())[0] for i in range(128)]\n",
    "pearsons"
   ]
  },
  {
   "cell_type": "code",
   "execution_count": 36,
   "metadata": {},
   "outputs": [],
   "source": [
    "import matplotlib.pyplot as plt\n",
    "import seaborn as sns\n",
    "import numpy as np\n",
    "\n",
    "def plot_tracks(tracks, interval, height=1.5, colors=None):\n",
    "  fig, axes = plt.subplots(len(tracks), 1, figsize=(20, height * len(tracks)), sharex=True)\n",
    "  for ax, (title, y) in zip(axes, tracks.items()):\n",
    "    if colors is not None:\n",
    "      ax.fill_between(np.linspace(interval[\"start\"], interval[\"end\"], num=len(y)), y, color=colors[title])\n",
    "    else:\n",
    "      ax.fill_between(np.linspace(interval[\"start\"], interval[\"end\"], num=len(y)), y)\n",
    "    ax.set_title(title)\n",
    "    sns.despine(top=True, right=True, bottom=True)\n",
    "  ax.set_xlabel(f\"{interval['chrom']}:{interval['start']}-{interval['end']}\")\n",
    "  plt.tight_layout()"
   ]
  },
  {
   "cell_type": "code",
   "execution_count": 37,
   "metadata": {},
   "outputs": [
    {
     "data": {
      "text/plain": [
       "chrom              chr5\n",
       "chromStart    146202569\n",
       "chromEnd      146204617\n",
       "Name: 0, dtype: object"
      ]
     },
     "execution_count": 37,
     "metadata": {},
     "output_type": "execute_result"
    }
   ],
   "source": [
    "sdata[[\"chrom\", \"chromStart\", \"chromEnd\"]].to_dataframe().iloc[0]"
   ]
  },
  {
   "cell_type": "code",
   "execution_count": 38,
   "metadata": {},
   "outputs": [],
   "source": [
    "# Plot signal and control\n",
    "chrom = \"chr5\"\n",
    "chromStart = 146202569\n",
    "chromEnd = 146204617\n",
    "interval = dict(chrom=chrom, start=chromStart, end=chromEnd)"
   ]
  },
  {
   "cell_type": "code",
   "execution_count": 39,
   "metadata": {},
   "outputs": [
    {
     "data": {
      "text/plain": [
       "array([[ 13.,   6.,   3.,  32.,  57., 127., 633., 822., 281., 156.,  64.,\n",
       "         55.,   9.,  14.,   7.,  25.]], dtype=float32)"
      ]
     },
     "execution_count": 39,
     "metadata": {},
     "output_type": "execute_result"
    }
   ],
   "source": [
    "bin_cov[0]"
   ]
  },
  {
   "cell_type": "code",
   "execution_count": 40,
   "metadata": {},
   "outputs": [
    {
     "data": {
      "text/plain": [
       "(1, 16)"
      ]
     },
     "execution_count": 40,
     "metadata": {},
     "output_type": "execute_result"
    }
   ],
   "source": [
    "bin_cov[0].shape"
   ]
  },
  {
   "cell_type": "code",
   "execution_count": 43,
   "metadata": {},
   "outputs": [
    {
     "data": {
      "image/png": "[encoded data removed]",
      "text/plain": [
       "<Figure size 2000x300 with 2 Axes>"
      ]
     },
     "metadata": {},
     "output_type": "display_data"
    }
   ],
   "source": [
    "# Plot tracks\n",
    "plot_tracks({\n",
    "    \"Experiment\": bin_cov[2].squeeze(0),\n",
    "    \"Prediction\": preds[2].cpu().detach().numpy()\n",
    "    }, \n",
    "    interval\n",
    ")"
   ]
  },
  {
   "cell_type": "code",
   "execution_count": null,
   "metadata": {},
   "outputs": [],
   "source": [
    "batch = next(iter(data_loader))\n",
    "x, y = batch\n",
    "basenji2(x.to('cuda')).shape, y.shape\n",
    "loss_fn(basenji2(x.to('cuda')), y.to('cuda'))"
   ]
  },
  {
   "cell_type": "code",
   "execution_count": null,
   "metadata": {},
   "outputs": [],
   "source": []
  }
 ],
 "metadata": {
  "kernelspec": {
   "display_name": "Python 3.9 ml4gland",
   "language": "python",
   "name": "ml4gland"
  },
  "language_info": {
   "codemirror_mode": {
    "name": "ipython",
    "version": 3
   },
   "file_extension": ".py",
   "mimetype": "text/x-python",
   "name": "python",
   "nbconvert_exporter": "python",
   "pygments_lexer": "ipython3",
   "version": "3.9.16"
  },
  "orig_nbformat": 4
 },
 "nbformat": 4,
 "nbformat_minor": 2
}
